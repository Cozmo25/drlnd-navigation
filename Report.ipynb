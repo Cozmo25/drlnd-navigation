{
 "cells": [
  {
   "cell_type": "markdown",
   "metadata": {},
   "source": [
    "# Report\n",
    "\n",
    "This report details the methods and algorithms I used to solve the Navigation project as part of the Deep Reinforcement Learning Nanodegree from Udactiy.\n",
    "\n",
    "First step is to import the required Python packages to run the environment and algorithms:"
   ]
  },
  {
   "cell_type": "code",
   "execution_count": 1,
   "metadata": {},
   "outputs": [],
   "source": [
    "# Imports\n",
    "import random\n",
    "import torch\n",
    "from collections import deque\n",
    "import matplotlib.pyplot as plt\n",
    "from unityagents import UnityEnvironment\n",
    "import numpy as np\n",
    "%matplotlib inline\n",
    "%load_ext autoreload\n",
    "%autoreload 2"
   ]
  },
  {
   "cell_type": "markdown",
   "metadata": {},
   "source": [
    "Next we instantiate the Unity Environment using the custom build provided by Udactiy:"
   ]
  },
  {
   "cell_type": "code",
   "execution_count": 2,
   "metadata": {
    "scrolled": true
   },
   "outputs": [
    {
     "name": "stderr",
     "output_type": "stream",
     "text": [
      "INFO:unityagents:\n",
      "'Academy' started successfully!\n",
      "Unity Academy name: Academy\n",
      "        Number of Brains: 1\n",
      "        Number of External Brains : 1\n",
      "        Lesson number : 0\n",
      "        Reset Parameters :\n",
      "\t\t\n",
      "Unity brain name: BananaBrain\n",
      "        Number of Visual Observations (per agent): 0\n",
      "        Vector Observation space type: continuous\n",
      "        Vector Observation space size (per agent): 37\n",
      "        Number of stacked Vector Observation: 1\n",
      "        Vector Action space type: discrete\n",
      "        Vector Action space size (per agent): 4\n",
      "        Vector Action descriptions: , , , \n"
     ]
    }
   ],
   "source": [
    "# Initialize the training environment\n",
    "env = UnityEnvironment(file_name=\"/Users/olliegraham/sites/ai/reinforcement-learning/deep-reinforcement-learning/p1_navigation/Banana.app\")"
   ]
  },
  {
   "cell_type": "markdown",
   "metadata": {},
   "source": [
    "Now we create variables for the 'Brain' which will control the actions of the agent within the environment"
   ]
  },
  {
   "cell_type": "code",
   "execution_count": 3,
   "metadata": {},
   "outputs": [],
   "source": [
    "# get the default brain\n",
    "brain_name = env.brain_names[0]\n",
    "brain = env.brains[brain_name]"
   ]
  },
  {
   "cell_type": "markdown",
   "metadata": {},
   "source": [
    "The following section gives us an overview of the environment and shows us what the state space vector looks like:"
   ]
  },
  {
   "cell_type": "code",
   "execution_count": 4,
   "metadata": {},
   "outputs": [
    {
     "name": "stdout",
     "output_type": "stream",
     "text": [
      "Number of agents: 1\n",
      "Number of actions: 4\n",
      "States look like: [1.         0.         0.         0.         0.84408134 0.\n",
      " 0.         1.         0.         0.0748472  0.         1.\n",
      " 0.         0.         0.25755    1.         0.         0.\n",
      " 0.         0.74177343 0.         1.         0.         0.\n",
      " 0.25854847 0.         0.         1.         0.         0.09355672\n",
      " 0.         1.         0.         0.         0.31969345 0.\n",
      " 0.        ]\n",
      "States have length: 37\n"
     ]
    }
   ],
   "source": [
    "# reset the environment\n",
    "env_info = env.reset(train_mode=False)[brain_name]\n",
    "\n",
    "# number of agents in the environment\n",
    "print('Number of agents:', len(env_info.agents))\n",
    "\n",
    "# number of actions\n",
    "action_size = brain.vector_action_space_size\n",
    "print('Number of actions:', action_size)\n",
    "\n",
    "# examine the state space \n",
    "state = env_info.vector_observations[0]\n",
    "print('States look like:', state)\n",
    "state_size = len(state)\n",
    "print('States have length:', state_size)"
   ]
  },
  {
   "cell_type": "markdown",
   "metadata": {},
   "source": [
    "## Experiments"
   ]
  },
  {
   "cell_type": "markdown",
   "metadata": {},
   "source": [
    "### Vanilla DQN\n",
    "\n",
    "First we implement a vanilla deep Q - learning (DQN) agent, allow it to train on the environment until it is solved and then assess its performance.\n",
    "\n",
    "The vanilla DQN agent uses the following neural network architecture for both the target and online Q - learning models:\n",
    "\n",
    "![DQN](images/DQN-network.png)"
   ]
  },
  {
   "cell_type": "markdown",
   "metadata": {},
   "source": [
    "The input size to the network is 1 x 37 states, which is passed to the first hidden layer of 64 fully connected neurons. The first fully connected layer passes to a second fully connected layer of 64 neurons and finally to the output layer which has 4 outputs corresponding to each of the possible actions."
   ]
  },
  {
   "cell_type": "markdown",
   "metadata": {},
   "source": [
    "The Q - Learning agent assumes the following hyper-parameters:\n",
    "\n",
    "```\n",
    "BUFFER_SIZE = int(1e5)  # replay buffer size  \n",
    "BATCH_SIZE = 64         # minibatch size  \n",
    "GAMMA = 0.99            # discount factor  \n",
    "TAU = 1e-3              # for soft update of target parameters  \n",
    "LR = 5e-4               # learning rate  \n",
    "UPDATE_EVERY = 4        # how often to update the network  \n",
    "```\n",
    "\n",
    "We now initalize the Q-Learning agent, passing in the number of states, actions and a random seed."
   ]
  },
  {
   "cell_type": "code",
   "execution_count": 5,
   "metadata": {},
   "outputs": [],
   "source": [
    "# Import and initialize DQN agent with environment variables\n",
    "from dqn_agent import Agent\n",
    "agent = Agent(state_size=state_size, action_size=action_size, seed=42)"
   ]
  },
  {
   "cell_type": "markdown",
   "metadata": {},
   "source": [
    "Next we get to the main Q-Learning algorithm and training steps:"
   ]
  },
  {
   "cell_type": "code",
   "execution_count": 19,
   "metadata": {},
   "outputs": [
    {
     "name": "stdout",
     "output_type": "stream",
     "text": [
      "Episode 100\tAverage Score: 0.46\n",
      "Episode 200\tAverage Score: 4.61\n",
      "Episode 300\tAverage Score: 7.57\n",
      "Episode 400\tAverage Score: 10.72\n",
      "Episode 497\tAverage Score: 13.05\n",
      "Environment solved in 397 episodes!\tAverage Score: 13.05\n"
     ]
    },
    {
     "data": {
      "image/png": "[encoded data removed]",
      "text/plain": [
       "<Figure size 432x288 with 1 Axes>"
      ]
     },
     "metadata": {},
     "output_type": "display_data"
    }
   ],
   "source": [
    "# Train the agent with Deep Q Learning\n",
    "def dqn(n_episodes=2000, eps_start=1.0, eps_end=0.01, eps_decay=0.995, brain_name=brain_name, env=env, solve=False):\n",
    "    \"\"\"Deep Q-Learning.\n",
    "    \n",
    "    Params\n",
    "    ======\n",
    "        n_episodes (int): maximum number of training episodes\n",
    "        eps_start (float): starting value of epsilon, for epsilon-greedy action selection\n",
    "        eps_end (float): minimum value of epsilon\n",
    "        eps_decay (float): multiplicative factor (per episode) for decreasing epsilon\n",
    "        brain_name (object): controller for environment\n",
    "        env (objet): Unity ML Agent Banana collector environment\n",
    "        solve (bool): Boolean to determine if learning should stop once environment is solved\n",
    "        \n",
    "    \"\"\"\n",
    "    scores = []                        # list containing scores from each episode\n",
    "    scores_window = deque(maxlen=100)  # last 100 scores\n",
    "    eps = eps_start                    # initialize epsilon\n",
    "    env_info = env.reset(train_mode=True)[brain_name] # reset the environment\n",
    "    state = env_info.vector_observations[0] # get the current state\n",
    "    \n",
    "    for i_episode in range(1, n_episodes+1):\n",
    "        env_info = env.reset(train_mode=True)[brain_name] # reset the environment\n",
    "        state = env_info.vector_observations[0] # get the current state\n",
    "        score = 0\n",
    "        while True:\n",
    "            action = agent.act(state, eps)\n",
    "            env_info = env.step(action)[brain_name]\n",
    "            next_state = env_info.vector_observations[0]\n",
    "            reward = env_info.rewards[0]\n",
    "            done = env_info.local_done[0]\n",
    "            agent.step(state, action, reward, next_state, done)\n",
    "            state = next_state\n",
    "            score += reward\n",
    "            if done:\n",
    "                break \n",
    "        scores_window.append(score)       # save most recent score\n",
    "        scores.append(score)              # save most recent score\n",
    "        eps = max(eps_end, eps_decay*eps) # decrease epsilon\n",
    "        print('\\rEpisode {}\\tAverage Score: {:.2f}'.format(i_episode, np.mean(scores_window)), end=\"\")\n",
    "        if i_episode % 100 == 0:\n",
    "            print('\\rEpisode {}\\tAverage Score: {:.2f}'.format(i_episode, np.mean(scores_window)))\n",
    "        if solve:\n",
    "            if np.mean(scores_window)>=13.0:\n",
    "                print('\\nEnvironment solved in {:d} episodes!\\tAverage Score: {:.2f}'.format(i_episode-100, np.mean(scores_window)))\n",
    "                torch.save(agent.qnetwork_local.state_dict(), 'checkpoint.pth')\n",
    "                break\n",
    "        else:\n",
    "            if i_episode == n_episodes:\n",
    "                print('\\nMax episodes reached!\\tFinal Average Score: {:.2f}'.format(i_episode, np.mean(scores_window)))\n",
    "                torch.save(agent.qnetwork_local.state_dict(), 'all-episodes-checkpoint.pth')\n",
    "    return scores\n",
    "\n",
    "scores = dqn(solve=True)\n",
    "\n",
    "# plot the scores\n",
    "fig = plt.figure()\n",
    "ax = fig.add_subplot(111)\n",
    "plt.plot(np.arange(len(scores)), scores)\n",
    "plt.ylabel('Score')\n",
    "plt.xlabel('Episode #')\n",
    "plt.show()"
   ]
  },
  {
   "cell_type": "markdown",
   "metadata": {},
   "source": [
    "## Training the Agent\n",
    "\n",
    "There is a lot going on in the cell above, so I will summarise what is happening here.\n",
    "\n",
    "1. We define the Q-learning function and arguments for number of episodes, epsilon start, epsilon end, epsilon decay rate, the brain name, the environment, and a boolean solve.\n",
    "    * No. of episodes - tells the algorithm how many epsidoes we'd like to train for if the agent doesn't solve the environment before this number is reached\n",
    "    * Epsilon start - the starting probability for the agent to choose a random action\n",
    "    * Epsilon end - the lowest probability for the agent to choose a random action\n",
    "    * Epsilon decay - the rate at which epsilon should decay from episode to episode down to epsilon end\n",
    "    * The brain name - is the controller for the environment\n",
    "    * The environment - is the Banana collector environment that we wish to train the agent in\n",
    "    * Solve - whether the training should stop once the environment is solved, or continue until the max number of episodes is reached\n",
    "    \n",
    "2. Next we set variables for the score of each episode, a container for the score over the last 100 epsiodes, initial epsilon value, reset the environment and get the initial state info.\n",
    "3. Then, for each episode we:\n",
    "    * Reset the environment and the score\n",
    "    ```\n",
    "        env_info = env.reset(train_mode=True)[brain_name] # reset the environment\n",
    "        score = 0\n",
    "    ```\n",
    "    * Get the current state\n",
    "    ```\n",
    "        state = env_info.vector_observations[0] # get the current state\n",
    "    ```\n",
    "    * Until the episode ends we:\n",
    "        * Get the agent to take an action which is chosen at random with probability epsilon, or by the greedy policy as learned by the online network if a sufficient number of episodes have passed\n",
    "        ```\n",
    "            action = agent.act(state, eps)\n",
    "        ```\n",
    "        * Pass the action to the environment and get the next state\n",
    "        ```\n",
    "            env_info = env.step(action)[brain_name]\n",
    "            next_state = env_info.vector_observations[0]\n",
    "        ```\n",
    "        * Receive a reward for taking the previous action and arriving in the next state\n",
    "        ```\n",
    "            reward = env_info.rewards[0]\n",
    "        ```\n",
    "        * Check if the episode is done\n",
    "        ```\n",
    "            done = env_info.local_done[0]\n",
    "        ```\n",
    "        * Step the agent forward 1 step, the agent will then store the state, action, reward, next state, done tuple in memory for use in learning later (up to the maximum memory size as set in the agent parameters)\n",
    "        ```\n",
    "            agent.step(state, action, reward, next_state, done)\n",
    "        ```\n",
    "        * Set the current state to be the next state\n",
    "        ```\n",
    "            state = next_state\n",
    "        ```\n",
    "        * Update the score recieved for the most recent reward\n",
    "        ```\n",
    "            score += reward\n",
    "        ```\n",
    "        * Check if the episode has ended\n",
    "        * Update the total scores for the episode and the rolling 100 episode window\n",
    "        ```\n",
    "            scores_window.append(score)       # save most recent score\n",
    "            scores.append(score)\n",
    "            \n",
    "        ```\n",
    "        * Finally we decay epsilon by the decay paramter - then we move to next episode if the environment has not been solved (and solved is set to True)\n",
    "        * If the environment is solved, or the total number of episodes are reached print the results of the training"
   ]
  },
  {
   "cell_type": "markdown",
   "metadata": {},
   "source": [
    "The agent will randomly sample a mini-batch of tuples from the S,A,R,S,A tuples stored in memory in order to learn from the actions it has taken in the various states it has observed, this happens every X steps where X is set to 4 in the agent parameters above.\n",
    "\n",
    "The agent then uses Q-values generated from the target network and expected Q-values from the online network as input to the Bellman equation as follows:\n",
    "\n",
    "<img src=\"images/fixed-q-target.png\" width=\"75%\">\n",
    "\n",
    "I utilsed the smooth_l1_loss function to be used as the error term for the neural network to minimise on the target network. Smooth L1 Loss is described as follows:\n",
    "\n",
    "Creates a criterion that uses a squared term if the absolute element-wise error falls below 1 and an L1 term otherwise. It is less sensitive to outliers than the MSELoss and in some cases prevents exploding gradients (e.g. see “Fast R-CNN” paper by Ross Girshick). Also known as the Huber loss:\n",
    "\n",
    "![huber loss](images/Huber-loss.png)\n",
    "\n",
    "where zi is given by:\n",
    "\n",
    "![zi](images/zi.png)\n",
    "\n",
    "x and y arbitrary shapes with a total of n elements each the sum operation still operates over all the elements, and divides by n.\n",
    "\n",
    "We then do a 'soft copy' of the network weights from the online network to the target network in accordance with the following formula:\n",
    "\n",
    "```\n",
    "    θ_target = τ*θ_local + (1 - τ)*θ_target\n",
    "```\n",
    "\n",
    "Where Tau was defined in the Agent parameters above.\n",
    "\n",
    "Over the course of many episodes the agent will use the memories of S,A,R,S,A sequences it has obsvered to form an optimal policy which becomes encoded in the weights of the online and target neural networks."
   ]
  },
  {
   "cell_type": "markdown",
   "metadata": {},
   "source": [
    "## Results\n",
    "\n",
    "I experimented with several settings for both hyper-parameters of the agent and the structure of the neural networks in order to see how quickly the agent was able to solve the environment.\n",
    "\n",
    "All of the following experiments were run with these arguments: **max number of episodes=2000, epsilon start=1.0, epsilon end=0.01, eps_decay=0.995.**"
   ]
  },
  {
   "cell_type": "markdown",
   "metadata": {},
   "source": [
    "**Vanilla DQN**\n",
    "\n",
    "Initial agent parameters:\n",
    "\n",
    "```\n",
    "BUFFER_SIZE = int(1e5)  # replay buffer size  \n",
    "BATCH_SIZE = 64         # minibatch size  \n",
    "GAMMA = 0.99            # discount factor  \n",
    "TAU = 1e-3              # for soft update of target parameters  \n",
    "LR = 5e-4               # learning rate  \n",
    "UPDATE_EVERY = 4        # how often to update the network \n",
    "```\n",
    "\n",
    "Neural Network:  \n",
    "\n",
    "Fully connected layer 1 number of neurons = 64  \n",
    "Fully connected layer 2 number of neurons = 64  \n",
    "\n",
    "Algorithm:  \n",
    "Vanilla Deep Q-Learning\n",
    "\n",
    "Training Results (Baseline):\n",
    "\n",
    "**Solved in 391 epsiodes**\n",
    "![DQN](images/DQN.png)"
   ]
  },
  {
   "cell_type": "markdown",
   "metadata": {},
   "source": [
    "**Double DQN**\n",
    "\n",
    "Agent parameters:\n",
    "\n",
    "```\n",
    "BUFFER_SIZE = int(1e5)  # replay buffer size  \n",
    "BATCH_SIZE = 64         # minibatch size  \n",
    "GAMMA = 0.99            # discount factor  \n",
    "TAU = 1e-3              # for soft update of target parameters  \n",
    "LR = 5e-4               # learning rate  \n",
    "UPDATE_EVERY = 4        # how often to update the network \n",
    "```\n",
    "\n",
    "Neural Network:  \n",
    "\n",
    "Fully connected layer 1 number of neurons = 64  \n",
    "Fully connected layer 2 number of neurons = 64  \n",
    "\n",
    "Algorithm:  \n",
    "Double Deep Q-Learning (DDQN) - here the target network is used to generate the Q-values for the optimal actions provided by the online network. Those Q-values are then fed into the Bellman equation to update the Q-Targets as input for the loss minimisation step of the online network\n",
    "\n",
    "<img src=\"images/double-DQN-equation.png\" width=\"60%\">\n",
    "\n",
    "Training Results:\n",
    "\n",
    "**Solved in 384 epsiodes**\n",
    "<img src=\"images/DDQN.png\">\n",
    "![DDQN](images/DDQN-Chart.png)"
   ]
  },
  {
   "cell_type": "markdown",
   "metadata": {},
   "source": [
    "**Dueling - Double DQN**\n",
    "\n",
    "Agent parameters:\n",
    "\n",
    "```\n",
    "BUFFER_SIZE = int(1e5)  # replay buffer size  \n",
    "BATCH_SIZE = 64         # minibatch size  \n",
    "GAMMA = 0.99            # discount factor  \n",
    "TAU = 1e-3              # for soft update of target parameters  \n",
    "LR = 5e-4               # learning rate  \n",
    "UPDATE_EVERY = 4        # how often to update the network \n",
    "```\n",
    "\n",
    "Neural Network:  \n",
    "\n",
    "Fully connected layer 1 number of neurons = 64  \n",
    "Fully connected layer 2 number of neurons = 64  \n",
    "Fully connected (advantage) layer 3 number of neurons = 4 (number of actions)  \n",
    "Fully connected (value) layer 3 number of neurons = 1\n",
    "\n",
    "Algorithm:  \n",
    "Dueling Double Deep Q-Learning (DDQN) - Here we decompose the Q(s,a) value into V(s) of being in that state and A(s,a) the advantage of taking any action versus all the other actions in that state.\n",
    "\n",
    "<img src=\"images/qsa-vs-asa.png\" width=\"40%\">\n",
    "\n",
    "We can then split the final fully connected layer into two branches one for the advantage and one for the value as follows to get a Q value for each action and a single value for V(s):\n",
    "\n",
    "<img src=\"images/dueling-ddqn-architecture.png\" width=\"50%\">\n",
    "\n",
    "The results are then recombined according to the following equation:\n",
    "\n",
    "<img src=\"images/dueling-ddqn-combination.png\" width=\"60%\">\n",
    "\n",
    "The revised neural network architecture is as follows:\n",
    "\n",
    "<img src=\"images/Dueling-DQN-Network.png\">\n",
    "\n",
    "Training Results:\n",
    "\n",
    "**Solved in 401 epsiodes**\n",
    "![DDQN](images/Dueling-DDQN.png)\n",
    "![DDQN](images/Dueling-DDQN-Chart.png)"
   ]
  },
  {
   "cell_type": "markdown",
   "metadata": {},
   "source": [
    "## Comment\n",
    "\n",
    "All of the results of experiments thus far have yielded a similar time in episodes for the agent to solve the environment, with the main change being how stable the learning has become as we added the Q-learning improvements to the model and network."
   ]
  },
  {
   "cell_type": "markdown",
   "metadata": {},
   "source": [
    "**Dueling - Double DQN. Increased Batch Size**\n",
    "\n",
    "Agent parameters:\n",
    "\n",
    "```\n",
    "BUFFER_SIZE = int(1e5)  # replay buffer size  \n",
    "BATCH_SIZE = 128         # minibatch size  \n",
    "GAMMA = 0.99            # discount factor  \n",
    "TAU = 1e-3              # for soft update of target parameters  \n",
    "LR = 5e-4               # learning rate  \n",
    "UPDATE_EVERY = 4        # how often to update the network \n",
    "```\n",
    "\n",
    "Neural Network:  \n",
    "\n",
    "Fully connected layer 1 number of neurons = 64  \n",
    "Fully connected layer 2 number of neurons = 64  \n",
    "Fully connected (advantage) layer 3 number of neurons = 4 (number of actions)  \n",
    "Fully connected (value) layer 3 number of neurons = 1\n",
    "\n",
    "Algorithm:  \n",
    "Dueling Double Deep Q-Learning (DDQN)\n",
    "\n",
    "**Solved in 372 epsiodes**\n",
    "<img src=\"images/Dueling-DDQN-Batch-128v2.png\">\n",
    "![DDQN](images/Dueling-DDQN-Chart-Batch-128.png)"
   ]
  },
  {
   "cell_type": "markdown",
   "metadata": {},
   "source": [
    "**Dueling - Double DQN. Increased Batch Size + Increased Tau**\n",
    "\n",
    "Agent parameters:\n",
    "\n",
    "```\n",
    "BUFFER_SIZE = int(1e5)  # replay buffer size  \n",
    "BATCH_SIZE = 128         # minibatch size  \n",
    "GAMMA = 0.99            # discount factor  \n",
    "TAU = 1e-2              # for soft update of target parameters  \n",
    "LR = 5e-4               # learning rate  \n",
    "UPDATE_EVERY = 4        # how often to update the network \n",
    "```\n",
    "\n",
    "Neural Network:  \n",
    "\n",
    "Fully connected layer 1 number of neurons = 64  \n",
    "Fully connected layer 2 number of neurons = 64  \n",
    "Fully connected (advantage) layer 3 number of neurons = 4 (number of actions)  \n",
    "Fully connected (value) layer 3 number of neurons = 1\n",
    "\n",
    "Algorithm:  \n",
    "Dueling Double Deep Q-Learning (DDQN)\n",
    "\n",
    "**Solved in 414 epsiodes**\n",
    "![DDQN](images/dueling-ddqn-increased-tau2.png)\n"
   ]
  },
  {
   "cell_type": "markdown",
   "metadata": {},
   "source": [
    "## Comment\n",
    "\n",
    "Increasing Tau - or the rate at which we incorporate learning from the online to the target network seems to decrease the speed at which the agent solves the environment vs. increased batch size alone."
   ]
  },
  {
   "cell_type": "markdown",
   "metadata": {},
   "source": [
    "I then tried experimenting with the number of neurons in the layers of the neural network with a suspicion that with less parameters to train the network might be able to learn faster. Here is a diagram of the revised neural network:\n",
    "\n",
    "<img src=\"images/dueling-ddqn-32-hidden-architecture.png\">"
   ]
  },
  {
   "cell_type": "markdown",
   "metadata": {},
   "source": [
    "**Dueling - Double DQN. Increased Batch Size + Increased Tau + 32 hidden units**\n",
    "\n",
    "Agent parameters:\n",
    "\n",
    "```\n",
    "BUFFER_SIZE = int(1e5)  # replay buffer size  \n",
    "BATCH_SIZE = 128         # minibatch size  \n",
    "GAMMA = 0.99            # discount factor  \n",
    "TAU = 1e-2              # for soft update of target parameters  \n",
    "LR = 5e-4               # learning rate  \n",
    "UPDATE_EVERY = 4        # how often to update the network \n",
    "```\n",
    "\n",
    "Neural Network:  \n",
    "\n",
    "Fully connected layer 1 number of neurons = 32  \n",
    "Fully connected layer 2 number of neurons = 32  \n",
    "Fully connected (advantage) layer 3 number of neurons = 4 (number of actions)  \n",
    "Fully connected (value) layer 3 number of neurons = 1\n",
    "\n",
    "Algorithm:  \n",
    "Dueling Double Deep Q-Learning (DDQN)\n",
    "\n",
    "**Solved in 410 epsiodes**\n",
    "<img src=\"images/dueling-ddqn-increased-tau.png\">"
   ]
  },
  {
   "cell_type": "markdown",
   "metadata": {},
   "source": [
    "## Comment\n",
    "\n",
    "Changing the number of hidden units seemed to have little impact on the speed of solving the environment."
   ]
  },
  {
   "cell_type": "markdown",
   "metadata": {},
   "source": [
    "Finally I looked at increasing the rate of epsilon decay, under the hypothesis that given the limited number of states in the environment the agent might not need to take exploratory actions for many steps in order to build a near optimal policy."
   ]
  },
  {
   "cell_type": "markdown",
   "metadata": {},
   "source": [
    "**Dueling - Double DQN. Increased Batch Size + Increased Tau + 32 hidden units + Epsilon Decay = 0.95**\n",
    "\n",
    "Agent parameters:\n",
    "\n",
    "```\n",
    "BUFFER_SIZE = int(1e5)  # replay buffer size  \n",
    "BATCH_SIZE = 128         # minibatch size  \n",
    "GAMMA = 0.99            # discount factor  \n",
    "TAU = 1e-2              # for soft update of target parameters  \n",
    "LR = 5e-4               # learning rate  \n",
    "UPDATE_EVERY = 4        # how often to update the network \n",
    "```\n",
    "\n",
    "Neural Network:  \n",
    "\n",
    "Fully connected layer 1 number of neurons = 32  \n",
    "Fully connected layer 2 number of neurons = 32  \n",
    "Fully connected (advantage) layer 3 number of neurons = 4 (number of actions)  \n",
    "Fully connected (value) layer 3 number of neurons = 1\n",
    "\n",
    "Algorithm:  \n",
    "Dueling Double Deep Q-Learning (DDQN)\n",
    "\n",
    "**Solved in 286 epsiodes**\n",
    "<img src=\"images/dueling-ddqn-eps_decay0.95.png\" width=\"55%\">\n",
    "<img src=\"images/dueling-ddqn-eps_decay0.95-chart.png\" width=\"40%\">"
   ]
  },
  {
   "cell_type": "markdown",
   "metadata": {},
   "source": [
    "## Comment\n",
    "\n",
    "This is the biggest improvement in number of episodes to solve the environment so far! I then continued with several experiments, each increasing the amount of epsilon decay, to a final epsilon decay of 0.7 and my optimal agent."
   ]
  },
  {
   "cell_type": "markdown",
   "metadata": {},
   "source": [
    "**Dueling - Double DQN. Increased Batch Size + Increased Tau + 32 hidden units + Epsilon Decay = 0.7**\n",
    "\n",
    "Agent parameters:\n",
    "\n",
    "```\n",
    "BUFFER_SIZE = int(1e5)  # replay buffer size  \n",
    "BATCH_SIZE = 128         # minibatch size  \n",
    "GAMMA = 0.99            # discount factor  \n",
    "TAU = 1e-2              # for soft update of target parameters  \n",
    "LR = 5e-4               # learning rate  \n",
    "UPDATE_EVERY = 4        # how often to update the network \n",
    "```\n",
    "\n",
    "Neural Network:  \n",
    "\n",
    "Fully connected layer 1 number of neurons = 32  \n",
    "Fully connected layer 2 number of neurons = 32  \n",
    "Fully connected (advantage) layer 3 number of neurons = 4 (number of actions)  \n",
    "Fully connected (value) layer 3 number of neurons = 1\n",
    "\n",
    "Algorithm:  \n",
    "Dueling Double Deep Q-Learning (DDQN)\n",
    "\n",
    "**Solved in 126 epsiodes**\n",
    "<img src=\"images/dueling-ddqn-eps_decay0.7-plus-chart.png\" width=\"55%\">"
   ]
  },
  {
   "cell_type": "markdown",
   "metadata": {},
   "source": [
    "## Conclusion\n",
    "\n",
    "It seems as though this agent is able to score 13 points required to solve the environment in approximately 50 episodes, so any exploration beyond this point only acts to increase the time taken to solve the environment. This is likely due to the environment's relative simplicity and the limited number of actions the agent can take in the environment.\n",
    "\n",
    "As a result, decaying epsilon quickly to the minimum value allows the agent to act greedily as soon as possible and reach the 13 point average score over 100 episodes in the shortest period.\n",
    "\n",
    "It may be possible to further improve the performance of the agent by implementing Q-learning improvements such as: prioritised experience replay (boosting the sampling of experiences which are likely to lead to the greatest improvements in the error term of the network and thus the estimation of Q-values), or Dyna-Q which blends Q-planning and Q-learning so that the agent is able to build a model of the environment as it learns, thus drastically reducing the number ineractions the agent needs to have with its environment before it learns a near optimal policy."
   ]
  },
  {
   "cell_type": "markdown",
   "metadata": {},
   "source": [
    "## Watch the trained agent"
   ]
  },
  {
   "cell_type": "markdown",
   "metadata": {},
   "source": [
    "Click on the screenshot below to watch my best performing agent act in the Unity Banana Collector environment.\n",
    "\n",
    "<a href=\"http://www.youtube.com/watch?feature=player_embedded&v=GFSBQ08WmTQ\n",
    "\" target=\"_blank\"><img src=\"http://img.youtube.com/vi/GFSBQ08WmTQ/0.jpg\" \n",
    "alt=\"Youtube Video of Agent in Environment\" width=\"400\" height=\"300\" border=\"10\" /></a>"
   ]
  },
  {
   "cell_type": "markdown",
   "metadata": {},
   "source": [
    "If you have set up the environment per the instructions in the README file you can watch the agent interact with the environment by running the code below. \n",
    "\n",
    "Don't forget to close the environment when you're finished!"
   ]
  },
  {
   "cell_type": "code",
   "execution_count": null,
   "metadata": {},
   "outputs": [],
   "source": [
    "# Load an agent and watch it act\n",
    "\n",
    "# load the weights from file\n",
    "agent.qnetwork_local.load_state_dict(torch.load('dueling-ddqn-checkpoint-solved-126-nn-change-0.7eps_decay.pth'))\n",
    "\n",
    "state = env_info.vector_observations[0] # get the current state\n",
    "\n",
    "for i in range(3):\n",
    "    env_info = env.reset(train_mode=False)[brain_name] # reset the environment\n",
    "    score = 0\n",
    "    for j in range(200):\n",
    "        action = agent.act(state)\n",
    "        env_info = env.step(action)[brain_name]\n",
    "        state = env_info.vector_observations[0]\n",
    "        reward = env_info.rewards[0]\n",
    "        done = env_info.local_done[0]\n",
    "        score += reward\n",
    "        if done:\n",
    "            break \n",
    "        "
   ]
  },
  {
   "cell_type": "code",
   "execution_count": 7,
   "metadata": {},
   "outputs": [],
   "source": [
    "# Close the environment when done\n",
    "env.close()"
   ]
  },
  {
   "cell_type": "code",
   "execution_count": null,
   "metadata": {},
   "outputs": [],
   "source": []
  }
 ],
 "metadata": {
  "kernelspec": {
   "display_name": "drlnd",
   "language": "python",
   "name": "drlnd"
  },
  "language_info": {
   "codemirror_mode": {
    "name": "ipython",
    "version": 3
   },
   "file_extension": ".py",
   "mimetype": "text/x-python",
   "name": "python",
   "nbconvert_exporter": "python",
   "pygments_lexer": "ipython3",
   "version": "3.6.6"
  }
 },
 "nbformat": 4,
 "nbformat_minor": 2
}
